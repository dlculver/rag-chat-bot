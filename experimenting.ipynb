{
 "cells": [
  {
   "cell_type": "code",
   "execution_count": 4,
   "metadata": {},
   "outputs": [
    {
     "name": "stdout",
     "output_type": "stream",
     "text": [
      "Collecting python-dotenv\n",
      "  Downloading python_dotenv-1.0.1-py3-none-any.whl.metadata (23 kB)\n",
      "Downloading python_dotenv-1.0.1-py3-none-any.whl (19 kB)\n",
      "Installing collected packages: python-dotenv\n",
      "Successfully installed python-dotenv-1.0.1\n"
     ]
    }
   ],
   "source": [
    "!pip install python-dotenv"
   ]
  },
  {
   "cell_type": "code",
   "execution_count": 10,
   "metadata": {},
   "outputs": [],
   "source": [
    "import os\n",
    "from dotenv import load_dotenv\n",
    "\n",
    "env_available = load_dotenv() # loads the environment variables from .env file\n",
    "assert env_available, \"No .env file found\"\n",
    "\n",
    "# Broadly still following the tutorial from Educative, but the llama index api is now completely different, so we have to adapt. "
   ]
  },
  {
   "cell_type": "code",
   "execution_count": 16,
   "metadata": {},
   "outputs": [],
   "source": [
    "from pydantic import BaseModel\n",
    "from typing import Optional, List\n",
    "\n",
    "class WikiPageList(BaseModel):\n",
    "    \"\"\"Data model for list of wiki pages\"\"\"\n",
    "    pages: List[str]"
   ]
  },
  {
   "cell_type": "code",
   "execution_count": 17,
   "metadata": {},
   "outputs": [
    {
     "name": "stdout",
     "output_type": "stream",
     "text": [
      "Function call: WikiPageList with args: {\"pages\":[\"Jesus Christ\",\"Buddha\",\"Muhammad\"]}\n"
     ]
    },
    {
     "data": {
      "text/plain": [
       "WikiPageList(pages=['Jesus Christ', 'Buddha', 'Muhammad'])"
      ]
     },
     "execution_count": 17,
     "metadata": {},
     "output_type": "execute_result"
    }
   ],
   "source": [
    "from llama_index.program.openai import OpenAIPydanticProgram\n",
    "def wikipage_list(query):\n",
    "    \"\"\"This function extracts the Wikipedia pages from the query using OpenAI's GPT-3 API and returns them as a list (but stored in a WikiPageList object). \n",
    "    Args: \n",
    "        query (str): The query string containing the Wikipedia pages to extract. It must start with `please index:` followed by the Wikipedia pages.\n",
    "    Returns:\n",
    "        WikiPageList: A data model object containing the list of Wikipedia pages extracted from the query.\n",
    "    \"\"\"\n",
    "    openai_key = os.getenv(\"OPENAI_API_KEY\")\n",
    "    if not openai_key:\n",
    "        raise ValueError(\"No OpenAI API key found\")\n",
    "    \n",
    "    prompt_template_str = \"\"\"\n",
    "    Given the input {query}, extract the Wikipedia pages mentioned after \"please index:\" and return them as a list.\n",
    "    If only one page is mentioned, return a single element list.\n",
    "    \"\"\"\n",
    "\n",
    "    program = OpenAIPydanticProgram.from_defaults(\n",
    "        output_cls=WikiPageList,\n",
    "        prompt_template_str=prompt_template_str,\n",
    "        verbose=True,\n",
    "    )\n",
    "\n",
    "    wikipage_requests = program(query=query)\n",
    "    return wikipage_requests\n",
    "\n",
    "wikipage_list(\"please index: Jesus Christ, Buddha, and Muhammad.\")\n"
   ]
  },
  {
   "cell_type": "code",
   "execution_count": 18,
   "metadata": {},
   "outputs": [
    {
     "name": "stdout",
     "output_type": "stream",
     "text": [
      "Function call: WikiPageList with args: {\"pages\":[\"Alexander Grothendieck\",\"Alan Turing\",\"Gottlieb Frege\",\"David Hilbert\"]}\n"
     ]
    },
    {
     "data": {
      "text/plain": [
       "WikiPageList(pages=['Alexander Grothendieck', 'Alan Turing', 'Gottlieb Frege', 'David Hilbert'])"
      ]
     },
     "execution_count": 18,
     "metadata": {},
     "output_type": "execute_result"
    }
   ],
   "source": [
    "wikipage_list(\"please index: Alexander Grothendieck, Alan Turing, Gottlieb Frege, and David Hilbert.\")"
   ]
  },
  {
   "cell_type": "code",
   "execution_count": null,
   "metadata": {},
   "outputs": [],
   "source": []
  }
 ],
 "metadata": {
  "kernelspec": {
   "display_name": "rag",
   "language": "python",
   "name": "python3"
  },
  "language_info": {
   "codemirror_mode": {
    "name": "ipython",
    "version": 3
   },
   "file_extension": ".py",
   "mimetype": "text/x-python",
   "name": "python",
   "nbconvert_exporter": "python",
   "pygments_lexer": "ipython3",
   "version": "3.12.0"
  }
 },
 "nbformat": 4,
 "nbformat_minor": 2
}
