{
 "cells": [
  {
   "cell_type": "code",
   "execution_count": 4,
   "metadata": {},
   "outputs": [
    {
     "name": "stdout",
     "output_type": "stream",
     "text": [
      "Collecting python-dotenv\n",
      "  Downloading python_dotenv-1.0.1-py3-none-any.whl.metadata (23 kB)\n",
      "Downloading python_dotenv-1.0.1-py3-none-any.whl (19 kB)\n",
      "Installing collected packages: python-dotenv\n",
      "Successfully installed python-dotenv-1.0.1\n"
     ]
    }
   ],
   "source": [
    "!pip install python-dotenv"
   ]
  },
  {
   "cell_type": "code",
   "execution_count": 1,
   "metadata": {},
   "outputs": [],
   "source": [
    "import os\n",
    "from dotenv import load_dotenv\n",
    "\n",
    "env_available = load_dotenv() # loads the environment variables from .env file\n",
    "assert env_available, \"No .env file found\"\n",
    "\n",
    "# Broadly still following the tutorial from Educative, but the llama index api is now completely different, so we have to adapt. "
   ]
  },
  {
   "cell_type": "code",
   "execution_count": 2,
   "metadata": {},
   "outputs": [],
   "source": [
    "from pydantic import BaseModel\n",
    "from typing import Optional, List\n",
    "\n",
    "class WikiPageList(BaseModel):\n",
    "    \"\"\"Data model for list of wiki pages\"\"\"\n",
    "    pages: List[str]"
   ]
  },
  {
   "cell_type": "code",
   "execution_count": 3,
   "metadata": {},
   "outputs": [
    {
     "name": "stdout",
     "output_type": "stream",
     "text": [
      "Function call: WikiPageList with args: {\"pages\":[\"Jesus Christ\",\"Buddha\",\"Muhammad\"]}\n"
     ]
    },
    {
     "data": {
      "text/plain": [
       "WikiPageList(pages=['Jesus Christ', 'Buddha', 'Muhammad'])"
      ]
     },
     "execution_count": 3,
     "metadata": {},
     "output_type": "execute_result"
    }
   ],
   "source": [
    "from llama_index.program.openai import OpenAIPydanticProgram\n",
    "def wikipage_list(query):\n",
    "    \"\"\"This function extracts the Wikipedia pages from the query using OpenAI's GPT-3 API and returns them as a list (but stored in a WikiPageList object). \n",
    "    Args: \n",
    "        query (str): The query string containing the Wikipedia pages to extract. It must start with `please index:` followed by the Wikipedia pages.\n",
    "    Returns:\n",
    "        WikiPageList: A data model object containing the list of Wikipedia pages extracted from the query.\n",
    "    \"\"\"\n",
    "    openai_key = os.getenv(\"OPENAI_API_KEY\")\n",
    "    if not openai_key:\n",
    "        raise ValueError(\"No OpenAI API key found\")\n",
    "    \n",
    "    prompt_template_str = \"\"\"\n",
    "    Given the input {query}, extract the Wikipedia pages mentioned after \"please index:\" and return them as a list.\n",
    "    If only one page is mentioned, return a single element list.\n",
    "    \"\"\"\n",
    "\n",
    "    program = OpenAIPydanticProgram.from_defaults(\n",
    "        output_cls=WikiPageList,\n",
    "        prompt_template_str=prompt_template_str,\n",
    "        verbose=True,\n",
    "    )\n",
    "\n",
    "    wikipage_requests = program(query=query)\n",
    "    return wikipage_requests\n",
    "\n",
    "wikipage_list(\"please index: Jesus Christ, Buddha, and Muhammad.\")\n"
   ]
  },
  {
   "cell_type": "code",
   "execution_count": 18,
   "metadata": {},
   "outputs": [
    {
     "name": "stdout",
     "output_type": "stream",
     "text": [
      "Function call: WikiPageList with args: {\"pages\":[\"Alexander Grothendieck\",\"Alan Turing\",\"Gottlieb Frege\",\"David Hilbert\"]}\n"
     ]
    },
    {
     "data": {
      "text/plain": [
       "WikiPageList(pages=['Alexander Grothendieck', 'Alan Turing', 'Gottlieb Frege', 'David Hilbert'])"
      ]
     },
     "execution_count": 18,
     "metadata": {},
     "output_type": "execute_result"
    }
   ],
   "source": [
    "wikipage_list(\"please index: Alexander Grothendieck, Alan Turing, Gottlieb Frege, and David Hilbert.\")"
   ]
  },
  {
   "cell_type": "markdown",
   "metadata": {},
   "source": [
    "# Create the documents function"
   ]
  },
  {
   "cell_type": "code",
   "execution_count": 7,
   "metadata": {},
   "outputs": [
    {
     "name": "stdout",
     "output_type": "stream",
     "text": [
      "Requirement already satisfied: llama-index-readers-wikipedia in /Users/dominicculver/miniconda3/envs/rag/lib/python3.12/site-packages (0.1.4)\n",
      "Requirement already satisfied: llama-index-core<0.11.0,>=0.10.1 in /Users/dominicculver/miniconda3/envs/rag/lib/python3.12/site-packages (from llama-index-readers-wikipedia) (0.10.34)\n",
      "Requirement already satisfied: PyYAML>=6.0.1 in /Users/dominicculver/miniconda3/envs/rag/lib/python3.12/site-packages (from llama-index-core<0.11.0,>=0.10.1->llama-index-readers-wikipedia) (6.0.1)\n",
      "Requirement already satisfied: SQLAlchemy>=1.4.49 in /Users/dominicculver/miniconda3/envs/rag/lib/python3.12/site-packages (from SQLAlchemy[asyncio]>=1.4.49->llama-index-core<0.11.0,>=0.10.1->llama-index-readers-wikipedia) (2.0.30)\n",
      "Requirement already satisfied: aiohttp<4.0.0,>=3.8.6 in /Users/dominicculver/miniconda3/envs/rag/lib/python3.12/site-packages (from llama-index-core<0.11.0,>=0.10.1->llama-index-readers-wikipedia) (3.9.5)\n",
      "Requirement already satisfied: dataclasses-json in /Users/dominicculver/miniconda3/envs/rag/lib/python3.12/site-packages (from llama-index-core<0.11.0,>=0.10.1->llama-index-readers-wikipedia) (0.6.5)\n",
      "Requirement already satisfied: deprecated>=1.2.9.3 in /Users/dominicculver/miniconda3/envs/rag/lib/python3.12/site-packages (from llama-index-core<0.11.0,>=0.10.1->llama-index-readers-wikipedia) (1.2.14)\n",
      "Requirement already satisfied: dirtyjson<2.0.0,>=1.0.8 in /Users/dominicculver/miniconda3/envs/rag/lib/python3.12/site-packages (from llama-index-core<0.11.0,>=0.10.1->llama-index-readers-wikipedia) (1.0.8)\n",
      "Requirement already satisfied: fsspec>=2023.5.0 in /Users/dominicculver/miniconda3/envs/rag/lib/python3.12/site-packages (from llama-index-core<0.11.0,>=0.10.1->llama-index-readers-wikipedia) (2024.3.1)\n",
      "Requirement already satisfied: httpx in /Users/dominicculver/miniconda3/envs/rag/lib/python3.12/site-packages (from llama-index-core<0.11.0,>=0.10.1->llama-index-readers-wikipedia) (0.27.0)\n",
      "Requirement already satisfied: llamaindex-py-client<0.2.0,>=0.1.18 in /Users/dominicculver/miniconda3/envs/rag/lib/python3.12/site-packages (from llama-index-core<0.11.0,>=0.10.1->llama-index-readers-wikipedia) (0.1.19)\n",
      "Requirement already satisfied: nest-asyncio<2.0.0,>=1.5.8 in /Users/dominicculver/miniconda3/envs/rag/lib/python3.12/site-packages (from llama-index-core<0.11.0,>=0.10.1->llama-index-readers-wikipedia) (1.6.0)\n",
      "Requirement already satisfied: networkx>=3.0 in /Users/dominicculver/miniconda3/envs/rag/lib/python3.12/site-packages (from llama-index-core<0.11.0,>=0.10.1->llama-index-readers-wikipedia) (3.3)\n",
      "Requirement already satisfied: nltk<4.0.0,>=3.8.1 in /Users/dominicculver/miniconda3/envs/rag/lib/python3.12/site-packages (from llama-index-core<0.11.0,>=0.10.1->llama-index-readers-wikipedia) (3.8.1)\n",
      "Requirement already satisfied: numpy in /Users/dominicculver/miniconda3/envs/rag/lib/python3.12/site-packages (from llama-index-core<0.11.0,>=0.10.1->llama-index-readers-wikipedia) (1.26.4)\n",
      "Requirement already satisfied: openai>=1.1.0 in /Users/dominicculver/miniconda3/envs/rag/lib/python3.12/site-packages (from llama-index-core<0.11.0,>=0.10.1->llama-index-readers-wikipedia) (1.26.0)\n",
      "Requirement already satisfied: pandas in /Users/dominicculver/miniconda3/envs/rag/lib/python3.12/site-packages (from llama-index-core<0.11.0,>=0.10.1->llama-index-readers-wikipedia) (2.2.2)\n",
      "Requirement already satisfied: pillow>=9.0.0 in /Users/dominicculver/miniconda3/envs/rag/lib/python3.12/site-packages (from llama-index-core<0.11.0,>=0.10.1->llama-index-readers-wikipedia) (10.3.0)\n",
      "Requirement already satisfied: requests>=2.31.0 in /Users/dominicculver/miniconda3/envs/rag/lib/python3.12/site-packages (from llama-index-core<0.11.0,>=0.10.1->llama-index-readers-wikipedia) (2.31.0)\n",
      "Requirement already satisfied: tenacity<9.0.0,>=8.2.0 in /Users/dominicculver/miniconda3/envs/rag/lib/python3.12/site-packages (from llama-index-core<0.11.0,>=0.10.1->llama-index-readers-wikipedia) (8.2.3)\n",
      "Requirement already satisfied: tiktoken>=0.3.3 in /Users/dominicculver/miniconda3/envs/rag/lib/python3.12/site-packages (from llama-index-core<0.11.0,>=0.10.1->llama-index-readers-wikipedia) (0.6.0)\n",
      "Requirement already satisfied: tqdm<5.0.0,>=4.66.1 in /Users/dominicculver/miniconda3/envs/rag/lib/python3.12/site-packages (from llama-index-core<0.11.0,>=0.10.1->llama-index-readers-wikipedia) (4.66.4)\n",
      "Requirement already satisfied: typing-extensions>=4.5.0 in /Users/dominicculver/miniconda3/envs/rag/lib/python3.12/site-packages (from llama-index-core<0.11.0,>=0.10.1->llama-index-readers-wikipedia) (4.9.0)\n",
      "Requirement already satisfied: typing-inspect>=0.8.0 in /Users/dominicculver/miniconda3/envs/rag/lib/python3.12/site-packages (from llama-index-core<0.11.0,>=0.10.1->llama-index-readers-wikipedia) (0.9.0)\n",
      "Requirement already satisfied: wrapt in /Users/dominicculver/miniconda3/envs/rag/lib/python3.12/site-packages (from llama-index-core<0.11.0,>=0.10.1->llama-index-readers-wikipedia) (1.16.0)\n",
      "Requirement already satisfied: aiosignal>=1.1.2 in /Users/dominicculver/miniconda3/envs/rag/lib/python3.12/site-packages (from aiohttp<4.0.0,>=3.8.6->llama-index-core<0.11.0,>=0.10.1->llama-index-readers-wikipedia) (1.3.1)\n",
      "Requirement already satisfied: attrs>=17.3.0 in /Users/dominicculver/miniconda3/envs/rag/lib/python3.12/site-packages (from aiohttp<4.0.0,>=3.8.6->llama-index-core<0.11.0,>=0.10.1->llama-index-readers-wikipedia) (23.1.0)\n",
      "Requirement already satisfied: frozenlist>=1.1.1 in /Users/dominicculver/miniconda3/envs/rag/lib/python3.12/site-packages (from aiohttp<4.0.0,>=3.8.6->llama-index-core<0.11.0,>=0.10.1->llama-index-readers-wikipedia) (1.4.1)\n",
      "Requirement already satisfied: multidict<7.0,>=4.5 in /Users/dominicculver/miniconda3/envs/rag/lib/python3.12/site-packages (from aiohttp<4.0.0,>=3.8.6->llama-index-core<0.11.0,>=0.10.1->llama-index-readers-wikipedia) (6.0.5)\n",
      "Requirement already satisfied: yarl<2.0,>=1.0 in /Users/dominicculver/miniconda3/envs/rag/lib/python3.12/site-packages (from aiohttp<4.0.0,>=3.8.6->llama-index-core<0.11.0,>=0.10.1->llama-index-readers-wikipedia) (1.9.4)\n",
      "Requirement already satisfied: pydantic>=1.10 in /Users/dominicculver/miniconda3/envs/rag/lib/python3.12/site-packages (from llamaindex-py-client<0.2.0,>=0.1.18->llama-index-core<0.11.0,>=0.10.1->llama-index-readers-wikipedia) (2.7.1)\n",
      "Requirement already satisfied: anyio in /Users/dominicculver/miniconda3/envs/rag/lib/python3.12/site-packages (from httpx->llama-index-core<0.11.0,>=0.10.1->llama-index-readers-wikipedia) (4.2.0)\n",
      "Requirement already satisfied: certifi in /Users/dominicculver/miniconda3/envs/rag/lib/python3.12/site-packages (from httpx->llama-index-core<0.11.0,>=0.10.1->llama-index-readers-wikipedia) (2024.2.2)\n",
      "Requirement already satisfied: httpcore==1.* in /Users/dominicculver/miniconda3/envs/rag/lib/python3.12/site-packages (from httpx->llama-index-core<0.11.0,>=0.10.1->llama-index-readers-wikipedia) (1.0.5)\n",
      "Requirement already satisfied: idna in /Users/dominicculver/miniconda3/envs/rag/lib/python3.12/site-packages (from httpx->llama-index-core<0.11.0,>=0.10.1->llama-index-readers-wikipedia) (3.7)\n",
      "Requirement already satisfied: sniffio in /Users/dominicculver/miniconda3/envs/rag/lib/python3.12/site-packages (from httpx->llama-index-core<0.11.0,>=0.10.1->llama-index-readers-wikipedia) (1.3.0)\n",
      "Requirement already satisfied: h11<0.15,>=0.13 in /Users/dominicculver/miniconda3/envs/rag/lib/python3.12/site-packages (from httpcore==1.*->httpx->llama-index-core<0.11.0,>=0.10.1->llama-index-readers-wikipedia) (0.14.0)\n",
      "Requirement already satisfied: click in /Users/dominicculver/miniconda3/envs/rag/lib/python3.12/site-packages (from nltk<4.0.0,>=3.8.1->llama-index-core<0.11.0,>=0.10.1->llama-index-readers-wikipedia) (8.1.7)\n",
      "Requirement already satisfied: joblib in /Users/dominicculver/miniconda3/envs/rag/lib/python3.12/site-packages (from nltk<4.0.0,>=3.8.1->llama-index-core<0.11.0,>=0.10.1->llama-index-readers-wikipedia) (1.4.2)\n",
      "Requirement already satisfied: regex>=2021.8.3 in /Users/dominicculver/miniconda3/envs/rag/lib/python3.12/site-packages (from nltk<4.0.0,>=3.8.1->llama-index-core<0.11.0,>=0.10.1->llama-index-readers-wikipedia) (2024.4.28)\n",
      "Requirement already satisfied: distro<2,>=1.7.0 in /Users/dominicculver/miniconda3/envs/rag/lib/python3.12/site-packages (from openai>=1.1.0->llama-index-core<0.11.0,>=0.10.1->llama-index-readers-wikipedia) (1.9.0)\n",
      "Requirement already satisfied: charset-normalizer<4,>=2 in /Users/dominicculver/miniconda3/envs/rag/lib/python3.12/site-packages (from requests>=2.31.0->llama-index-core<0.11.0,>=0.10.1->llama-index-readers-wikipedia) (2.0.4)\n",
      "Requirement already satisfied: urllib3<3,>=1.21.1 in /Users/dominicculver/miniconda3/envs/rag/lib/python3.12/site-packages (from requests>=2.31.0->llama-index-core<0.11.0,>=0.10.1->llama-index-readers-wikipedia) (2.1.0)\n",
      "Requirement already satisfied: greenlet!=0.4.17 in /Users/dominicculver/miniconda3/envs/rag/lib/python3.12/site-packages (from SQLAlchemy[asyncio]>=1.4.49->llama-index-core<0.11.0,>=0.10.1->llama-index-readers-wikipedia) (3.0.3)\n",
      "Requirement already satisfied: mypy-extensions>=0.3.0 in /Users/dominicculver/miniconda3/envs/rag/lib/python3.12/site-packages (from typing-inspect>=0.8.0->llama-index-core<0.11.0,>=0.10.1->llama-index-readers-wikipedia) (1.0.0)\n",
      "Requirement already satisfied: marshmallow<4.0.0,>=3.18.0 in /Users/dominicculver/miniconda3/envs/rag/lib/python3.12/site-packages (from dataclasses-json->llama-index-core<0.11.0,>=0.10.1->llama-index-readers-wikipedia) (3.21.2)\n",
      "Requirement already satisfied: python-dateutil>=2.8.2 in /Users/dominicculver/miniconda3/envs/rag/lib/python3.12/site-packages (from pandas->llama-index-core<0.11.0,>=0.10.1->llama-index-readers-wikipedia) (2.8.2)\n",
      "Requirement already satisfied: pytz>=2020.1 in /Users/dominicculver/miniconda3/envs/rag/lib/python3.12/site-packages (from pandas->llama-index-core<0.11.0,>=0.10.1->llama-index-readers-wikipedia) (2024.1)\n",
      "Requirement already satisfied: tzdata>=2022.7 in /Users/dominicculver/miniconda3/envs/rag/lib/python3.12/site-packages (from pandas->llama-index-core<0.11.0,>=0.10.1->llama-index-readers-wikipedia) (2024.1)\n",
      "Requirement already satisfied: packaging>=17.0 in /Users/dominicculver/miniconda3/envs/rag/lib/python3.12/site-packages (from marshmallow<4.0.0,>=3.18.0->dataclasses-json->llama-index-core<0.11.0,>=0.10.1->llama-index-readers-wikipedia) (23.2)\n",
      "Requirement already satisfied: annotated-types>=0.4.0 in /Users/dominicculver/miniconda3/envs/rag/lib/python3.12/site-packages (from pydantic>=1.10->llamaindex-py-client<0.2.0,>=0.1.18->llama-index-core<0.11.0,>=0.10.1->llama-index-readers-wikipedia) (0.6.0)\n",
      "Requirement already satisfied: pydantic-core==2.18.2 in /Users/dominicculver/miniconda3/envs/rag/lib/python3.12/site-packages (from pydantic>=1.10->llamaindex-py-client<0.2.0,>=0.1.18->llama-index-core<0.11.0,>=0.10.1->llama-index-readers-wikipedia) (2.18.2)\n",
      "Requirement already satisfied: six>=1.5 in /Users/dominicculver/miniconda3/envs/rag/lib/python3.12/site-packages (from python-dateutil>=2.8.2->pandas->llama-index-core<0.11.0,>=0.10.1->llama-index-readers-wikipedia) (1.16.0)\n",
      "Collecting wikipedia\n",
      "  Downloading wikipedia-1.4.0.tar.gz (27 kB)\n",
      "  Preparing metadata (setup.py) ... \u001b[?25ldone\n",
      "\u001b[?25hRequirement already satisfied: beautifulsoup4 in /Users/dominicculver/miniconda3/envs/rag/lib/python3.12/site-packages (from wikipedia) (4.12.3)\n",
      "Requirement already satisfied: requests<3.0.0,>=2.0.0 in /Users/dominicculver/miniconda3/envs/rag/lib/python3.12/site-packages (from wikipedia) (2.31.0)\n",
      "Requirement already satisfied: charset-normalizer<4,>=2 in /Users/dominicculver/miniconda3/envs/rag/lib/python3.12/site-packages (from requests<3.0.0,>=2.0.0->wikipedia) (2.0.4)\n",
      "Requirement already satisfied: idna<4,>=2.5 in /Users/dominicculver/miniconda3/envs/rag/lib/python3.12/site-packages (from requests<3.0.0,>=2.0.0->wikipedia) (3.7)\n",
      "Requirement already satisfied: urllib3<3,>=1.21.1 in /Users/dominicculver/miniconda3/envs/rag/lib/python3.12/site-packages (from requests<3.0.0,>=2.0.0->wikipedia) (2.1.0)\n",
      "Requirement already satisfied: certifi>=2017.4.17 in /Users/dominicculver/miniconda3/envs/rag/lib/python3.12/site-packages (from requests<3.0.0,>=2.0.0->wikipedia) (2024.2.2)\n",
      "Requirement already satisfied: soupsieve>1.2 in /Users/dominicculver/miniconda3/envs/rag/lib/python3.12/site-packages (from beautifulsoup4->wikipedia) (2.5)\n",
      "Building wheels for collected packages: wikipedia\n",
      "  Building wheel for wikipedia (setup.py) ... \u001b[?25ldone\n",
      "\u001b[?25h  Created wheel for wikipedia: filename=wikipedia-1.4.0-py3-none-any.whl size=11680 sha256=4c179c967466df3a152ed542c6deaa52936b813b3c93e69f2b07e2eec3a912f9\n",
      "  Stored in directory: /Users/dominicculver/Library/Caches/pip/wheels/63/47/7c/a9688349aa74d228ce0a9023229c6c0ac52ca2a40fe87679b8\n",
      "Successfully built wikipedia\n",
      "Installing collected packages: wikipedia\n",
      "Successfully installed wikipedia-1.4.0\n"
     ]
    }
   ],
   "source": [
    "# There are dedicate readers on LlamaHub. \n",
    "!pip install llama-index-readers-wikipedia\n",
    "!pip install wikipedia"
   ]
  },
  {
   "cell_type": "code",
   "execution_count": 8,
   "metadata": {},
   "outputs": [],
   "source": [
    "from llama_index.readers.wikipedia import WikipediaReader\n",
    "\n",
    "reader = WikipediaReader()"
   ]
  },
  {
   "cell_type": "code",
   "execution_count": null,
   "metadata": {},
   "outputs": [],
   "source": []
  }
 ],
 "metadata": {
  "kernelspec": {
   "display_name": "rag",
   "language": "python",
   "name": "python3"
  },
  "language_info": {
   "codemirror_mode": {
    "name": "ipython",
    "version": 3
   },
   "file_extension": ".py",
   "mimetype": "text/x-python",
   "name": "python",
   "nbconvert_exporter": "python",
   "pygments_lexer": "ipython3",
   "version": "3.12.0"
  }
 },
 "nbformat": 4,
 "nbformat_minor": 2
}
